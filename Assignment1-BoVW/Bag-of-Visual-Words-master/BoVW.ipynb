{
 "cells": [
  {
   "cell_type": "code",
   "execution_count": 2,
   "metadata": {},
   "outputs": [],
   "source": [
    "import argparse\n",
    "import cv2\n",
    "import time\n",
    "from tqdm import tqdm\n",
    "import numpy as np \n",
    "import os\n",
    "from sklearn.cluster import KMeans\n",
    "from sklearn.svm import SVC\n",
    "from sklearn.preprocessing import StandardScaler\n",
    "from matplotlib import pyplot as plt\n",
    "from sklearn import svm, datasets\n",
    "from sklearn.model_selection import train_test_split\n",
    "from sklearn.metrics import confusion_matrix\n",
    "from sklearn.utils.multiclass import unique_labels\n",
    "from sklearn.metrics.pairwise import chi2_kernel\n",
    "from sklearn.model_selection import GridSearchCV\n",
    "from sklearn.metrics import accuracy_score"
   ]
  },
  {
   "cell_type": "code",
   "execution_count": 3,
   "metadata": {},
   "outputs": [],
   "source": [
    "def getFiles(train, path):\n",
    "    images = []\n",
    "    count = 0\n",
    "    for folder in os.listdir(path):\n",
    "        for file in  os.listdir(os.path.join(path, folder)):\n",
    "            images.append(os.path.join(path, os.path.join(folder, file)))\n",
    "\n",
    "    if(train is True):\n",
    "        np.random.shuffle(images)\n",
    "    \n",
    "    return images"
   ]
  },
  {
   "cell_type": "code",
   "execution_count": 4,
   "metadata": {},
   "outputs": [],
   "source": [
    "def getDescriptors(sift, img):\n",
    "    kp, des = sift.detectAndCompute(img, None)\n",
    "    return des"
   ]
  },
  {
   "cell_type": "code",
   "execution_count": 5,
   "metadata": {},
   "outputs": [],
   "source": [
    "def readImage(img_path):\n",
    "    img = cv2.imread(img_path, 0)\n",
    "    return cv2.resize(img,(150,150))"
   ]
  },
  {
   "cell_type": "code",
   "execution_count": 6,
   "metadata": {},
   "outputs": [],
   "source": [
    "def vstackDescriptors(descriptor_list):\n",
    "    descriptors = np.array(descriptor_list[0])\n",
    "    for descriptor in descriptor_list[1:]:\n",
    "        descriptors = np.vstack((descriptors, descriptor)) \n",
    "\n",
    "    return descriptors"
   ]
  },
  {
   "cell_type": "code",
   "execution_count": 7,
   "metadata": {},
   "outputs": [],
   "source": [
    "def clusterDescriptors(descriptors, no_clusters):\n",
    "    kmeans = KMeans(n_clusters = no_clusters).fit(descriptors)\n",
    "    return kmeans"
   ]
  },
  {
   "cell_type": "code",
   "execution_count": 8,
   "metadata": {},
   "outputs": [],
   "source": [
    "def extractFeatures(kmeans, descriptor_list, image_count, no_clusters):\n",
    "    im_features = np.array([np.zeros(no_clusters) for i in range(image_count)])\n",
    "    for i in tqdm(range(image_count)):\n",
    "        for j in range(len(descriptor_list[i])):\n",
    "            feature = descriptor_list[i][j]\n",
    "            feature = feature.reshape(1, 128)\n",
    "            idx = kmeans.predict(feature)\n",
    "            im_features[i][idx] += 1\n",
    "\n",
    "    return im_features"
   ]
  },
  {
   "cell_type": "code",
   "execution_count": 9,
   "metadata": {},
   "outputs": [],
   "source": [
    "def normalizeFeatures(scale, features):\n",
    "    return scale.transform(features)"
   ]
  },
  {
   "cell_type": "code",
   "execution_count": 10,
   "metadata": {},
   "outputs": [],
   "source": [
    "def plotHistogram(im_features, no_clusters):\n",
    "    x_scalar = np.arange(no_clusters)\n",
    "    y_scalar = np.array([abs(np.sum(im_features[:,h], dtype=np.int32)) for h in range(no_clusters)])\n",
    "\n",
    "    plt.bar(x_scalar, y_scalar)\n",
    "    plt.xlabel(\"Visual Word Index\")\n",
    "    plt.ylabel(\"Frequency\")\n",
    "    plt.title(\"Complete Vocabulary Generated\")\n",
    "    plt.xticks(x_scalar + 0.4, x_scalar)\n",
    "    plt.show()"
   ]
  },
  {
   "cell_type": "code",
   "execution_count": 11,
   "metadata": {},
   "outputs": [],
   "source": [
    "def svcParamSelection(X, y, kernel, nfolds):\n",
    "    Cs = [0.5, 0.1, 0.15, 0.2, 0.3]\n",
    "    gammas = [0.1, 0.11, 0.095, 0.105]\n",
    "    param_grid = {'C': Cs, 'gamma' : gammas}\n",
    "    grid_search = GridSearchCV(SVC(kernel=kernel), param_grid, cv=nfolds)\n",
    "    grid_search.fit(X, y)\n",
    "    grid_search.best_params_\n",
    "    return grid_search.best_params_"
   ]
  },
  {
   "cell_type": "code",
   "execution_count": 12,
   "metadata": {},
   "outputs": [],
   "source": [
    "def findSVM(im_features, train_labels, kernel):\n",
    "    features = im_features\n",
    "    if(kernel == \"precomputed\"):\n",
    "      features = np.dot(im_features, im_features.T)\n",
    "    \n",
    "    params = svcParamSelection(features, train_labels, kernel, 5)\n",
    "    C_param, gamma_param = params.get(\"C\"), params.get(\"gamma\")\n",
    "    class_weight = {\n",
    "        0: (807 / (7 * 140)),\n",
    "        1: (807 / (7 * 140)),\n",
    "        2: (807 / (7 * 133)),\n",
    "        3: (807 / (7 * 70)),\n",
    "        4: (807 / (7 * 42)),\n",
    "        5: (807 / (7 * 140)),\n",
    "        6: (807 / (7 * 142)) \n",
    "    }\n",
    "  \n",
    "    svm = SVC(kernel = kernel, C =  C_param, gamma = gamma_param, class_weight = class_weight)\n",
    "    svm.fit(features, train_labels)\n",
    "    return svm"
   ]
  },
  {
   "cell_type": "code",
   "execution_count": 13,
   "metadata": {},
   "outputs": [],
   "source": [
    "def plotConfusionMatrix(y_true, y_pred, classes,\n",
    "                          normalize=False,\n",
    "                          title=None,\n",
    "                          cmap=plt.cm.Blues):\n",
    "    if not title:\n",
    "        if normalize:\n",
    "            title = 'Normalized confusion matrix'\n",
    "        else:\n",
    "            title = 'Confusion matrix, without normalization'\n",
    "\n",
    "    cm = confusion_matrix(y_true, y_pred)\n",
    "    if normalize:\n",
    "        cm = cm.astype('float') / cm.sum(axis=1)[:, np.newaxis]\n",
    "        print(\"Normalized confusion matrix\")\n",
    "    else:\n",
    "        print('Confusion matrix, without normalization')\n",
    "\n",
    "\n",
    "    fig, ax = plt.subplots()\n",
    "    im = ax.imshow(cm, interpolation='nearest', cmap=cmap)\n",
    "    ax.figure.colorbar(im, ax=ax)\n",
    "    ax.set(xticks=np.arange(cm.shape[1]),\n",
    "           yticks=np.arange(cm.shape[0]),\n",
    "           xticklabels=classes, yticklabels=classes,\n",
    "           title=title,\n",
    "           ylabel='True label',\n",
    "           xlabel='Predicted label')\n",
    "\n",
    "    plt.setp(ax.get_xticklabels(), rotation=45, ha=\"right\",\n",
    "             rotation_mode=\"anchor\")\n",
    "\n",
    "    fmt = '.2f' if normalize else 'd'\n",
    "    thresh = cm.max() / 2.\n",
    "    for i in range(cm.shape[0]):\n",
    "        for j in range(cm.shape[1]):\n",
    "            ax.text(j, i, format(cm[i, j], fmt),\n",
    "                    ha=\"center\", va=\"center\",\n",
    "                    color=\"white\" if cm[i, j] > thresh else \"black\")\n",
    "    fig.tight_layout()\n",
    "    return ax"
   ]
  },
  {
   "cell_type": "code",
   "execution_count": 14,
   "metadata": {},
   "outputs": [],
   "source": [
    "def plotConfusions(true, predictions):\n",
    "    np.set_printoptions(precision=2)\n",
    "\n",
    "    class_names = [\"city\", \"face\", \"green\", \"house_building\", \"house_indoor\", \"office\", \"sea\"]\n",
    "    plotConfusionMatrix(true, predictions, classes=class_names,\n",
    "                      title='Confusion matrix, without normalization')\n",
    "\n",
    "    plotConfusionMatrix(true, predictions, classes=class_names, normalize=True,\n",
    "                      title='Normalized confusion matrix')\n",
    "\n",
    "    plt.show()"
   ]
  },
  {
   "cell_type": "code",
   "execution_count": 15,
   "metadata": {},
   "outputs": [],
   "source": [
    "def findAccuracy(true, predictions):\n",
    "    accuracy = accuracy_score(true, predictions)\n",
    "    print ('accuracy score: %0.3f' % accuracy)\n",
    "    return accuracy"
   ]
  },
  {
   "cell_type": "code",
   "execution_count": 16,
   "metadata": {},
   "outputs": [],
   "source": [
    "def trainModel(path, no_clusters, kernel):\n",
    "    images = getFiles(True, path)\n",
    "    sift = cv2.xfeatures2d.SIFT_create()\n",
    "    descriptor_list = []\n",
    "    train_labels = np.array([])\n",
    "    # label_count = 7\n",
    "    image_count = len(images)\n",
    "\n",
    "    for img_path in images:\n",
    "        if(\"city\" in img_path):\n",
    "            class_index = 0\n",
    "        elif(\"face\" in img_path):\n",
    "            class_index = 1\n",
    "        elif(\"green\" in img_path):\n",
    "            class_index = 2\n",
    "        elif(\"house_building\" in img_path):\n",
    "            class_index = 3\n",
    "        elif(\"house_indoor\" in img_path):\n",
    "            class_index = 4\n",
    "        elif(\"office\" in img_path):\n",
    "          class_index = 5\n",
    "        else:\n",
    "          class_index = 6\n",
    "\n",
    "        train_labels = np.append(train_labels, class_index)\n",
    "        img = readImage(img_path)\n",
    "        des = getDescriptors(sift, img)\n",
    "        descriptor_list.append(des)\n",
    "\n",
    "    descriptors = vstackDescriptors(descriptor_list)\n",
    "\n",
    "    kmeans = clusterDescriptors(descriptors, no_clusters)\n",
    "\n",
    "    im_features = extractFeatures(kmeans, descriptor_list, image_count, no_clusters)\n",
    "\n",
    "    scale = StandardScaler().fit(im_features)        \n",
    "    im_features = scale.transform(im_features)\n",
    "\n",
    "    # plotHistogram(im_features, no_clusters)\n",
    "    # print(\"Features histogram plotted.\")\n",
    "\n",
    "    svm = findSVM(im_features, train_labels, kernel)\n",
    "\n",
    "    return kmeans, scale, svm, im_features"
   ]
  },
  {
   "cell_type": "code",
   "execution_count": 17,
   "metadata": {},
   "outputs": [],
   "source": [
    "def testModel(path, kmeans, scale, svm, im_features, no_clusters, kernel):\n",
    "    test_images = getFiles(False, path)\n",
    "\n",
    "    count = 0\n",
    "    true = []\n",
    "    descriptor_list = []\n",
    "\n",
    "    name_dict =\t{\n",
    "        \"0\": \"city\",\n",
    "        \"1\": \"face\",\n",
    "        \"2\": \"green\",\n",
    "        \"3\": \"house_building\",\n",
    "        \"4\": \"house_indoor\",\n",
    "        \"5\": \"office\",\n",
    "        \"6\": \"sea\"\n",
    "    }\n",
    "\n",
    "    sift = cv2.xfeatures2d.SIFT_create()\n",
    "\n",
    "    for img_path in test_images:\n",
    "        img = readImage(img_path)\n",
    "        des = getDescriptors(sift, img)\n",
    "        # print(des)\n",
    "        if(des is not None):\n",
    "            count += 1\n",
    "            descriptor_list.append(des)\n",
    "\n",
    "            if(\"city\" in img_path):\n",
    "                true.append(\"city\")\n",
    "            elif(\"face\" in img_path):\n",
    "                true.append(\"face\")\n",
    "            elif(\"green\" in img_path):\n",
    "                true.append(\"green\")\n",
    "            elif(\"house_building\" in img_path):\n",
    "                true.append(\"house_building\")\n",
    "            elif(\"house_indoor\" in img_path):\n",
    "                true.append(\"house_indoor\")\n",
    "            elif(\"office\" in img_path):\n",
    "                true.append(\"office\")\n",
    "            else:\n",
    "                true.append(\"sea\")\n",
    "\n",
    "    descriptors = vstackDescriptors(descriptor_list)\n",
    "\n",
    "    test_features = extractFeatures(kmeans, descriptor_list, count, no_clusters)\n",
    "\n",
    "    test_features = scale.transform(test_features)\n",
    "    \n",
    "    kernel_test = test_features\n",
    "    if(kernel == \"precomputed\"):\n",
    "        kernel_test = np.dot(test_features, im_features.T)\n",
    "    \n",
    "    predictions = [name_dict[str(int(i))] for i in svm.predict(kernel_test)]\n",
    "    print(no_clusters)\n",
    "    acc = findAccuracy(true, predictions)\n",
    "    return {\"accuracy\": acc, \n",
    "            \"predictions\": predictions\n",
    "            }"
   ]
  },
  {
   "cell_type": "code",
   "execution_count": 18,
   "metadata": {},
   "outputs": [],
   "source": [
    "def execute(train_path, test_path, no_clusters, kernel):\n",
    "    kmeans, scale, svm, im_features = trainModel(train_path, no_clusters, kernel)\n",
    "    dict1 = testModel(test_path, kmeans, scale, svm, im_features, no_clusters, kernel)\n",
    "    return dict1['accuracy']"
   ]
  },
  {
   "cell_type": "code",
   "execution_count": 19,
   "metadata": {},
   "outputs": [
    {
     "name": "stderr",
     "output_type": "stream",
     "text": [
      "[ WARN:0@21.293] global shadow_sift.hpp:15 SIFT_create DEPRECATED: cv.xfeatures2d.SIFT_create() is deprecated due SIFT tranfer to the main repository. https://github.com/opencv/opencv/issues/16736\n",
      "100%|██████████| 807/807 [00:14<00:00, 57.39it/s]\n",
      "100%|██████████| 209/209 [00:03<00:00, 53.33it/s]\n"
     ]
    },
    {
     "name": "stdout",
     "output_type": "stream",
     "text": [
      "10\n",
      "accuracy score: 0.474\n"
     ]
    },
    {
     "name": "stderr",
     "output_type": "stream",
     "text": [
      "100%|██████████| 807/807 [00:14<00:00, 57.22it/s]\n",
      "100%|██████████| 209/209 [00:03<00:00, 52.65it/s]\n"
     ]
    },
    {
     "name": "stdout",
     "output_type": "stream",
     "text": [
      "20\n",
      "accuracy score: 0.522\n"
     ]
    },
    {
     "name": "stderr",
     "output_type": "stream",
     "text": [
      "100%|██████████| 807/807 [00:14<00:00, 57.35it/s]\n",
      "100%|██████████| 209/209 [00:03<00:00, 52.86it/s]\n"
     ]
    },
    {
     "name": "stdout",
     "output_type": "stream",
     "text": [
      "30\n",
      "accuracy score: 0.512\n"
     ]
    },
    {
     "name": "stderr",
     "output_type": "stream",
     "text": [
      "100%|██████████| 807/807 [00:14<00:00, 56.99it/s]\n",
      "100%|██████████| 209/209 [00:04<00:00, 50.98it/s]\n"
     ]
    },
    {
     "name": "stdout",
     "output_type": "stream",
     "text": [
      "40\n",
      "accuracy score: 0.526\n"
     ]
    },
    {
     "name": "stderr",
     "output_type": "stream",
     "text": [
      "100%|██████████| 807/807 [00:14<00:00, 56.41it/s]\n",
      "100%|██████████| 209/209 [00:03<00:00, 52.72it/s]\n"
     ]
    },
    {
     "name": "stdout",
     "output_type": "stream",
     "text": [
      "50\n",
      "accuracy score: 0.579\n"
     ]
    },
    {
     "name": "stderr",
     "output_type": "stream",
     "text": [
      "100%|██████████| 807/807 [00:14<00:00, 56.33it/s]\n",
      "100%|██████████| 209/209 [00:04<00:00, 52.12it/s]\n"
     ]
    },
    {
     "name": "stdout",
     "output_type": "stream",
     "text": [
      "60\n",
      "accuracy score: 0.569\n"
     ]
    },
    {
     "name": "stderr",
     "output_type": "stream",
     "text": [
      "100%|██████████| 807/807 [00:14<00:00, 56.14it/s]\n",
      "100%|██████████| 209/209 [00:04<00:00, 51.77it/s]\n"
     ]
    },
    {
     "name": "stdout",
     "output_type": "stream",
     "text": [
      "70\n",
      "accuracy score: 0.560\n"
     ]
    },
    {
     "name": "stderr",
     "output_type": "stream",
     "text": [
      "100%|██████████| 807/807 [00:14<00:00, 55.77it/s]\n",
      "100%|██████████| 209/209 [00:04<00:00, 51.57it/s]\n"
     ]
    },
    {
     "name": "stdout",
     "output_type": "stream",
     "text": [
      "80\n",
      "accuracy score: 0.522\n"
     ]
    },
    {
     "name": "stderr",
     "output_type": "stream",
     "text": [
      "100%|██████████| 807/807 [00:15<00:00, 52.86it/s]\n",
      "100%|██████████| 209/209 [00:04<00:00, 51.54it/s]\n"
     ]
    },
    {
     "name": "stdout",
     "output_type": "stream",
     "text": [
      "90\n",
      "accuracy score: 0.612\n"
     ]
    },
    {
     "name": "stderr",
     "output_type": "stream",
     "text": [
      "100%|██████████| 807/807 [00:14<00:00, 55.98it/s]\n",
      "100%|██████████| 209/209 [00:04<00:00, 52.11it/s]\n"
     ]
    },
    {
     "name": "stdout",
     "output_type": "stream",
     "text": [
      "100\n",
      "accuracy score: 0.579\n"
     ]
    },
    {
     "name": "stderr",
     "output_type": "stream",
     "text": [
      "100%|██████████| 807/807 [00:17<00:00, 45.14it/s]\n",
      "100%|██████████| 209/209 [00:04<00:00, 49.26it/s]\n"
     ]
    },
    {
     "name": "stdout",
     "output_type": "stream",
     "text": [
      "110\n",
      "accuracy score: 0.612\n"
     ]
    },
    {
     "name": "stderr",
     "output_type": "stream",
     "text": [
      "100%|██████████| 807/807 [00:16<00:00, 48.35it/s]\n",
      "100%|██████████| 209/209 [00:04<00:00, 44.14it/s]\n"
     ]
    },
    {
     "name": "stdout",
     "output_type": "stream",
     "text": [
      "120\n",
      "accuracy score: 0.589\n"
     ]
    },
    {
     "name": "stderr",
     "output_type": "stream",
     "text": [
      "100%|██████████| 807/807 [00:15<00:00, 53.59it/s]\n",
      "100%|██████████| 209/209 [00:04<00:00, 50.58it/s]\n"
     ]
    },
    {
     "name": "stdout",
     "output_type": "stream",
     "text": [
      "130\n",
      "accuracy score: 0.632\n"
     ]
    },
    {
     "name": "stderr",
     "output_type": "stream",
     "text": [
      "100%|██████████| 807/807 [00:14<00:00, 54.70it/s]\n",
      "100%|██████████| 209/209 [00:04<00:00, 50.14it/s]\n"
     ]
    },
    {
     "name": "stdout",
     "output_type": "stream",
     "text": [
      "140\n",
      "accuracy score: 0.608\n"
     ]
    },
    {
     "name": "stderr",
     "output_type": "stream",
     "text": [
      "100%|██████████| 807/807 [00:15<00:00, 53.33it/s]\n",
      "100%|██████████| 209/209 [00:04<00:00, 51.05it/s]\n"
     ]
    },
    {
     "name": "stdout",
     "output_type": "stream",
     "text": [
      "150\n",
      "accuracy score: 0.627\n"
     ]
    },
    {
     "name": "stderr",
     "output_type": "stream",
     "text": [
      "100%|██████████| 807/807 [00:15<00:00, 53.47it/s]\n",
      "100%|██████████| 209/209 [00:04<00:00, 50.78it/s]\n"
     ]
    },
    {
     "name": "stdout",
     "output_type": "stream",
     "text": [
      "160\n",
      "accuracy score: 0.593\n"
     ]
    },
    {
     "name": "stderr",
     "output_type": "stream",
     "text": [
      "100%|██████████| 807/807 [00:15<00:00, 52.83it/s]\n",
      "100%|██████████| 209/209 [00:04<00:00, 49.88it/s]\n"
     ]
    },
    {
     "name": "stdout",
     "output_type": "stream",
     "text": [
      "170\n",
      "accuracy score: 0.589\n"
     ]
    },
    {
     "name": "stderr",
     "output_type": "stream",
     "text": [
      "100%|██████████| 807/807 [00:15<00:00, 53.11it/s]\n",
      "100%|██████████| 209/209 [00:04<00:00, 47.15it/s]\n"
     ]
    },
    {
     "name": "stdout",
     "output_type": "stream",
     "text": [
      "180\n",
      "accuracy score: 0.603\n"
     ]
    },
    {
     "name": "stderr",
     "output_type": "stream",
     "text": [
      "100%|██████████| 807/807 [00:15<00:00, 52.40it/s]\n",
      "100%|██████████| 209/209 [00:04<00:00, 49.36it/s]\n"
     ]
    },
    {
     "name": "stdout",
     "output_type": "stream",
     "text": [
      "190\n",
      "accuracy score: 0.608\n"
     ]
    },
    {
     "name": "stderr",
     "output_type": "stream",
     "text": [
      "100%|██████████| 807/807 [00:15<00:00, 52.60it/s]\n",
      "100%|██████████| 209/209 [00:04<00:00, 49.23it/s]\n"
     ]
    },
    {
     "name": "stdout",
     "output_type": "stream",
     "text": [
      "200\n",
      "accuracy score: 0.574\n"
     ]
    },
    {
     "name": "stderr",
     "output_type": "stream",
     "text": [
      "100%|██████████| 807/807 [00:15<00:00, 51.02it/s]\n",
      "100%|██████████| 209/209 [00:04<00:00, 48.95it/s]\n"
     ]
    },
    {
     "name": "stdout",
     "output_type": "stream",
     "text": [
      "210\n",
      "accuracy score: 0.612\n"
     ]
    },
    {
     "name": "stderr",
     "output_type": "stream",
     "text": [
      "100%|██████████| 807/807 [00:15<00:00, 52.92it/s]\n",
      "100%|██████████| 209/209 [00:04<00:00, 49.79it/s]\n"
     ]
    },
    {
     "name": "stdout",
     "output_type": "stream",
     "text": [
      "220\n",
      "accuracy score: 0.574\n"
     ]
    },
    {
     "name": "stderr",
     "output_type": "stream",
     "text": [
      "100%|██████████| 807/807 [00:15<00:00, 52.12it/s]\n",
      "100%|██████████| 209/209 [00:04<00:00, 49.13it/s]\n"
     ]
    },
    {
     "name": "stdout",
     "output_type": "stream",
     "text": [
      "230\n",
      "accuracy score: 0.608\n"
     ]
    },
    {
     "name": "stderr",
     "output_type": "stream",
     "text": [
      "100%|██████████| 807/807 [00:15<00:00, 52.92it/s]\n",
      "100%|██████████| 209/209 [00:04<00:00, 48.47it/s]\n"
     ]
    },
    {
     "name": "stdout",
     "output_type": "stream",
     "text": [
      "240\n",
      "accuracy score: 0.598\n"
     ]
    },
    {
     "name": "stderr",
     "output_type": "stream",
     "text": [
      "100%|██████████| 807/807 [00:15<00:00, 52.70it/s]\n",
      "100%|██████████| 209/209 [00:04<00:00, 49.27it/s]\n"
     ]
    },
    {
     "name": "stdout",
     "output_type": "stream",
     "text": [
      "250\n",
      "accuracy score: 0.656\n"
     ]
    },
    {
     "name": "stderr",
     "output_type": "stream",
     "text": [
      "100%|██████████| 807/807 [00:15<00:00, 52.27it/s]\n",
      "100%|██████████| 209/209 [00:04<00:00, 48.76it/s]\n"
     ]
    },
    {
     "name": "stdout",
     "output_type": "stream",
     "text": [
      "260\n",
      "accuracy score: 0.569\n"
     ]
    },
    {
     "name": "stderr",
     "output_type": "stream",
     "text": [
      "100%|██████████| 807/807 [00:15<00:00, 51.36it/s]\n",
      "100%|██████████| 209/209 [00:04<00:00, 48.56it/s]\n"
     ]
    },
    {
     "name": "stdout",
     "output_type": "stream",
     "text": [
      "270\n",
      "accuracy score: 0.617\n"
     ]
    },
    {
     "name": "stderr",
     "output_type": "stream",
     "text": [
      "100%|██████████| 807/807 [00:15<00:00, 51.67it/s]\n",
      "100%|██████████| 209/209 [00:04<00:00, 47.71it/s]\n"
     ]
    },
    {
     "name": "stdout",
     "output_type": "stream",
     "text": [
      "280\n",
      "accuracy score: 0.574\n"
     ]
    },
    {
     "name": "stderr",
     "output_type": "stream",
     "text": [
      "100%|██████████| 807/807 [00:15<00:00, 50.88it/s]\n",
      "100%|██████████| 209/209 [00:04<00:00, 47.34it/s]\n"
     ]
    },
    {
     "name": "stdout",
     "output_type": "stream",
     "text": [
      "290\n",
      "accuracy score: 0.574\n"
     ]
    },
    {
     "name": "stderr",
     "output_type": "stream",
     "text": [
      "100%|██████████| 807/807 [00:16<00:00, 48.59it/s]\n",
      "100%|██████████| 209/209 [00:04<00:00, 48.16it/s]\n"
     ]
    },
    {
     "name": "stdout",
     "output_type": "stream",
     "text": [
      "300\n",
      "accuracy score: 0.598\n"
     ]
    },
    {
     "name": "stderr",
     "output_type": "stream",
     "text": [
      "100%|██████████| 807/807 [00:15<00:00, 50.85it/s]\n",
      "100%|██████████| 209/209 [00:04<00:00, 47.92it/s]\n"
     ]
    },
    {
     "name": "stdout",
     "output_type": "stream",
     "text": [
      "310\n",
      "accuracy score: 0.598\n"
     ]
    },
    {
     "name": "stderr",
     "output_type": "stream",
     "text": [
      "100%|██████████| 807/807 [00:15<00:00, 50.82it/s]\n",
      "100%|██████████| 209/209 [00:04<00:00, 47.57it/s]\n"
     ]
    },
    {
     "name": "stdout",
     "output_type": "stream",
     "text": [
      "320\n",
      "accuracy score: 0.608\n"
     ]
    },
    {
     "name": "stderr",
     "output_type": "stream",
     "text": [
      "100%|██████████| 807/807 [00:15<00:00, 50.58it/s]\n",
      "100%|██████████| 209/209 [00:04<00:00, 47.44it/s]\n"
     ]
    },
    {
     "name": "stdout",
     "output_type": "stream",
     "text": [
      "330\n",
      "accuracy score: 0.627\n"
     ]
    },
    {
     "name": "stderr",
     "output_type": "stream",
     "text": [
      "100%|██████████| 807/807 [00:16<00:00, 49.76it/s]\n",
      "100%|██████████| 209/209 [00:04<00:00, 46.05it/s]\n"
     ]
    },
    {
     "name": "stdout",
     "output_type": "stream",
     "text": [
      "340\n",
      "accuracy score: 0.612\n"
     ]
    },
    {
     "name": "stderr",
     "output_type": "stream",
     "text": [
      "100%|██████████| 807/807 [00:18<00:00, 42.68it/s]\n",
      "100%|██████████| 209/209 [00:04<00:00, 45.45it/s]\n"
     ]
    },
    {
     "name": "stdout",
     "output_type": "stream",
     "text": [
      "350\n",
      "accuracy score: 0.574\n"
     ]
    },
    {
     "name": "stderr",
     "output_type": "stream",
     "text": [
      "100%|██████████| 807/807 [00:16<00:00, 50.22it/s]\n",
      "100%|██████████| 209/209 [00:04<00:00, 46.77it/s]\n"
     ]
    },
    {
     "name": "stdout",
     "output_type": "stream",
     "text": [
      "360\n",
      "accuracy score: 0.589\n"
     ]
    },
    {
     "name": "stderr",
     "output_type": "stream",
     "text": [
      "100%|██████████| 807/807 [00:16<00:00, 50.15it/s]\n",
      "100%|██████████| 209/209 [00:04<00:00, 46.60it/s]\n"
     ]
    },
    {
     "name": "stdout",
     "output_type": "stream",
     "text": [
      "370\n",
      "accuracy score: 0.632\n"
     ]
    },
    {
     "name": "stderr",
     "output_type": "stream",
     "text": [
      "100%|██████████| 807/807 [00:16<00:00, 50.17it/s]\n",
      "100%|██████████| 209/209 [00:04<00:00, 46.55it/s]\n"
     ]
    },
    {
     "name": "stdout",
     "output_type": "stream",
     "text": [
      "380\n",
      "accuracy score: 0.598\n"
     ]
    },
    {
     "name": "stderr",
     "output_type": "stream",
     "text": [
      "100%|██████████| 807/807 [00:16<00:00, 49.79it/s]\n",
      "100%|██████████| 209/209 [00:04<00:00, 46.15it/s]\n"
     ]
    },
    {
     "name": "stdout",
     "output_type": "stream",
     "text": [
      "390\n",
      "accuracy score: 0.641\n"
     ]
    },
    {
     "name": "stderr",
     "output_type": "stream",
     "text": [
      "100%|██████████| 807/807 [00:16<00:00, 49.59it/s]\n",
      "100%|██████████| 209/209 [00:04<00:00, 43.13it/s]\n"
     ]
    },
    {
     "name": "stdout",
     "output_type": "stream",
     "text": [
      "400\n",
      "accuracy score: 0.627\n"
     ]
    },
    {
     "name": "stderr",
     "output_type": "stream",
     "text": [
      "100%|██████████| 807/807 [00:16<00:00, 49.04it/s]\n",
      "100%|██████████| 209/209 [00:04<00:00, 46.01it/s]\n"
     ]
    },
    {
     "name": "stdout",
     "output_type": "stream",
     "text": [
      "410\n",
      "accuracy score: 0.636\n"
     ]
    },
    {
     "name": "stderr",
     "output_type": "stream",
     "text": [
      "100%|██████████| 807/807 [00:16<00:00, 49.15it/s]\n",
      "100%|██████████| 209/209 [00:04<00:00, 45.85it/s]\n"
     ]
    },
    {
     "name": "stdout",
     "output_type": "stream",
     "text": [
      "420\n",
      "accuracy score: 0.598\n"
     ]
    },
    {
     "name": "stderr",
     "output_type": "stream",
     "text": [
      "100%|██████████| 807/807 [00:16<00:00, 49.02it/s]\n",
      "100%|██████████| 209/209 [00:04<00:00, 45.65it/s]\n"
     ]
    },
    {
     "name": "stdout",
     "output_type": "stream",
     "text": [
      "430\n",
      "accuracy score: 0.617\n"
     ]
    },
    {
     "name": "stderr",
     "output_type": "stream",
     "text": [
      "100%|██████████| 807/807 [00:16<00:00, 48.96it/s]\n",
      "100%|██████████| 209/209 [00:04<00:00, 45.50it/s]\n"
     ]
    },
    {
     "name": "stdout",
     "output_type": "stream",
     "text": [
      "440\n",
      "accuracy score: 0.627\n"
     ]
    },
    {
     "name": "stderr",
     "output_type": "stream",
     "text": [
      "100%|██████████| 807/807 [00:16<00:00, 48.73it/s]\n",
      "100%|██████████| 209/209 [00:04<00:00, 45.19it/s]\n"
     ]
    },
    {
     "name": "stdout",
     "output_type": "stream",
     "text": [
      "450\n",
      "accuracy score: 0.627\n"
     ]
    },
    {
     "name": "stderr",
     "output_type": "stream",
     "text": [
      "100%|██████████| 807/807 [00:16<00:00, 48.54it/s]\n",
      "100%|██████████| 209/209 [00:04<00:00, 44.96it/s]\n"
     ]
    },
    {
     "name": "stdout",
     "output_type": "stream",
     "text": [
      "460\n",
      "accuracy score: 0.579\n"
     ]
    },
    {
     "name": "stderr",
     "output_type": "stream",
     "text": [
      "100%|██████████| 807/807 [00:16<00:00, 48.37it/s]\n",
      "100%|██████████| 209/209 [00:04<00:00, 44.96it/s]\n"
     ]
    },
    {
     "name": "stdout",
     "output_type": "stream",
     "text": [
      "470\n",
      "accuracy score: 0.589\n"
     ]
    },
    {
     "name": "stderr",
     "output_type": "stream",
     "text": [
      "100%|██████████| 807/807 [15:14<00:00,  1.13s/it]  \n",
      "100%|██████████| 209/209 [00:04<00:00, 45.43it/s]\n"
     ]
    },
    {
     "name": "stdout",
     "output_type": "stream",
     "text": [
      "480\n",
      "accuracy score: 0.627\n"
     ]
    },
    {
     "name": "stderr",
     "output_type": "stream",
     "text": [
      "100%|██████████| 807/807 [00:16<00:00, 47.65it/s]\n",
      "100%|██████████| 209/209 [00:04<00:00, 44.77it/s]"
     ]
    },
    {
     "name": "stdout",
     "output_type": "stream",
     "text": [
      "490\n",
      "accuracy score: 0.603\n"
     ]
    },
    {
     "name": "stderr",
     "output_type": "stream",
     "text": [
      "\n"
     ]
    }
   ],
   "source": [
    "train_path = 'Bag-of-Visual-Words-master/dataset/train'\n",
    "test_path = 'Bag-of-Visual-Words-master/dataset/test'\n",
    "no_clusters = 300\n",
    "kernal_type = 'linear' # or 'precomputed'\n",
    "\n",
    "if(not(kernal_type == \"linear\" or kernal_type == \"precomputed\")):\n",
    "    print(\"Kernel type must be either linear or precomputed\")\n",
    "    exit(0)\n",
    "\n",
    "history = []\n",
    "k = range(10, 500, 10)\n",
    "for no_clusters in k: \n",
    "    history.append(execute(train_path, test_path, int(no_clusters), kernal_type))"
   ]
  },
  {
   "cell_type": "code",
   "execution_count": 20,
   "metadata": {},
   "outputs": [
    {
     "data": {
      "text/plain": [
       "[0.47368421052631576,\n",
       " 0.5215311004784688,\n",
       " 0.5119617224880383,\n",
       " 0.5263157894736842,\n",
       " 0.5789473684210527,\n",
       " 0.569377990430622,\n",
       " 0.5598086124401914,\n",
       " 0.5215311004784688,\n",
       " 0.6124401913875598,\n",
       " 0.5789473684210527,\n",
       " 0.6124401913875598,\n",
       " 0.5885167464114832,\n",
       " 0.631578947368421,\n",
       " 0.6076555023923444,\n",
       " 0.6267942583732058,\n",
       " 0.5933014354066986,\n",
       " 0.5885167464114832,\n",
       " 0.6028708133971292,\n",
       " 0.6076555023923444,\n",
       " 0.5741626794258373,\n",
       " 0.6124401913875598,\n",
       " 0.5741626794258373,\n",
       " 0.6076555023923444,\n",
       " 0.5980861244019139,\n",
       " 0.6555023923444976,\n",
       " 0.569377990430622,\n",
       " 0.6172248803827751,\n",
       " 0.5741626794258373,\n",
       " 0.5741626794258373,\n",
       " 0.5980861244019139,\n",
       " 0.5980861244019139,\n",
       " 0.6076555023923444,\n",
       " 0.6267942583732058,\n",
       " 0.6124401913875598,\n",
       " 0.5741626794258373,\n",
       " 0.5885167464114832,\n",
       " 0.631578947368421,\n",
       " 0.5980861244019139,\n",
       " 0.6411483253588517,\n",
       " 0.6267942583732058,\n",
       " 0.6363636363636364,\n",
       " 0.5980861244019139,\n",
       " 0.6172248803827751,\n",
       " 0.6267942583732058,\n",
       " 0.6267942583732058,\n",
       " 0.5789473684210527,\n",
       " 0.5885167464114832,\n",
       " 0.6267942583732058,\n",
       " 0.6028708133971292]"
      ]
     },
     "execution_count": 20,
     "metadata": {},
     "output_type": "execute_result"
    }
   ],
   "source": [
    "history"
   ]
  },
  {
   "cell_type": "code",
   "execution_count": 21,
   "metadata": {},
   "outputs": [
    {
     "data": {
      "text/plain": [
       "Text(0, 0.5, 'Accuracy')"
      ]
     },
     "execution_count": 21,
     "metadata": {},
     "output_type": "execute_result"
    },
    {
     "data": {
      "image/png": "[encoded data removed]",
      "text/plain": [
       "<Figure size 640x480 with 1 Axes>"
      ]
     },
     "metadata": {},
     "output_type": "display_data"
    }
   ],
   "source": [
    "acc = [0.464, 0.498, 0.517, 0.560, 0.560, 0.555, 0.612, 0.579, 0.603]\n",
    "plt.plot(k, history)\n",
    "plt.xlabel('num clusters')\n",
    "plt.ylabel('Accuracy')"
   ]
  },
  {
   "cell_type": "code",
   "execution_count": 55,
   "metadata": {},
   "outputs": [
    {
     "name": "stdout",
     "output_type": "stream",
     "text": [
      "\n",
      "[##########] folder : test/green/ ----> file : green_test-009.jpg\n",
      "[##########] folder : test/city/ ----> file : city_test-022.jpg\n",
      "[##########] folder : test/office/ ----> file : office_test-004.jpg\n",
      "[##########] folder : test/face/ ----> file : face_test-011.jpg\n",
      "[##########] folder : test/house_indoor/ ----> file : house_indoor_test-005.jpg\n",
      "[##########] folder : test/house_building/ ----> file : house_building_test-025.jpg\n",
      "[##########] folder : test/sea/ ----> file : sea_test-008.jpg\n",
      "[##########] folder : train/green/ ----> file : green-103.jpgg\n",
      "[##########] folder : train/city/ ----> file : city-022.jpg\n",
      "[##########] folder : train/office/ ----> file : office-109.jpg\n",
      "[##########] folder : train/face/ ----> file : face-108.jpg\n",
      "[##########] folder : train/house_indoor/ ----> file : house_indoor-016.jpg\n",
      "[##########] folder : train/house_building/ ----> file : house_building-066.jpg\n",
      "[##########] folder : train/sea/ ----> file : sea-103.jpg\r"
     ]
    }
   ],
   "source": [
    "import numpy as np \n",
    "import cv2 \n",
    "import os\n",
    "import re\n",
    "\n",
    "# -------------------- Utility function ------------------------\n",
    "def normalize_label(str_):\n",
    "    str_ = str_.replace(\" \", \"\")\n",
    "    str_ = str_.translate(str_.maketrans(\"\",\"\", \"()\"))\n",
    "    str_ = str_.split(\"_\")\n",
    "    return ''.join(str_[:2])\n",
    "\n",
    "def normalize_desc(folder, sub_folder):\n",
    "    text = folder + \" - \" + sub_folder \n",
    "    text = re.sub(r'\\d+', '', text)\n",
    "    text = text.replace(\".\", \"\")\n",
    "    text = text.strip()\n",
    "    return text\n",
    "\n",
    "def print_progress(val, val_len, folder, sub_folder, filename, bar_size=10):\n",
    "    progr = \"#\"*round((val)*bar_size/val_len) + \" \"*round((val_len - (val))*bar_size/val_len)\n",
    "    if val == 0:\n",
    "        print(\"\", end = \"\\n\")\n",
    "    else:\n",
    "        print(\"[%s] folder : %s/%s/ ----> file : %s\" % (progr, folder, sub_folder, filename), end=\"\\r\")\n",
    "        \n",
    "\n",
    "# -------------------- Load Dataset ------------------------\n",
    " \n",
    "dataset_dir = \"Bag-of-Visual-Words-master/dataset/\" \n",
    "\n",
    "train_imgs, test_imgs = [], [] #list image matrix \n",
    "train_labels, test_labels = [],[]\n",
    "\n",
    "descs = []\n",
    "for folder in os.listdir(dataset_dir):\n",
    "    if folder == 'train': \n",
    "        for sub_folder in os.listdir(os.path.join(dataset_dir, folder)):\n",
    "            sub_folder_files = os.listdir(os.path.join(dataset_dir, folder, sub_folder))\n",
    "            len_sub_folder = len(sub_folder_files) - 1\n",
    "            for i, filename in enumerate(sub_folder_files):\n",
    "                img = cv2.imread(os.path.join(dataset_dir, folder, sub_folder, filename))\n",
    "                \n",
    "                gray = cv2.cvtColor(img, cv2.COLOR_BGR2GRAY)\n",
    "                \n",
    "                h, w = gray.shape\n",
    "                ymin, ymax, xmin, xmax = h//3, h*2//3, w//3, w*2//3\n",
    "                crop = gray[ymin:ymax, xmin:xmax]\n",
    "                \n",
    "                resize = cv2.resize(crop, (0,0), fx=0.5, fy=0.5)\n",
    "                \n",
    "                train_imgs.append(resize)\n",
    "                train_labels.append(normalize_label(os.path.splitext(filename)[0]))\n",
    "                descs.append(normalize_desc(folder, sub_folder))\n",
    "                \n",
    "                print_progress(i, len_sub_folder, folder, sub_folder, filename)\n",
    "\n",
    "    else:\n",
    "        for sub_folder in os.listdir(os.path.join(dataset_dir, folder)):\n",
    "            sub_folder_files = os.listdir(os.path.join(dataset_dir, folder, sub_folder))\n",
    "            len_sub_folder = len(sub_folder_files) - 1\n",
    "            for i, filename in enumerate(sub_folder_files):\n",
    "                img = cv2.imread(os.path.join(dataset_dir, folder, sub_folder, filename))\n",
    "                \n",
    "                gray = cv2.cvtColor(img, cv2.COLOR_BGR2GRAY)\n",
    "                \n",
    "                h, w = gray.shape\n",
    "                ymin, ymax, xmin, xmax = h//3, h*2//3, w//3, w*2//3\n",
    "                crop = gray[ymin:ymax, xmin:xmax]\n",
    "                \n",
    "                resize = cv2.resize(crop, (0,0), fx=0.5, fy=0.5)\n",
    "                \n",
    "                test_imgs.append(resize)\n",
    "                test_labels.append(normalize_label(os.path.splitext(filename)[0]))\n",
    "                descs.append(normalize_desc(folder, sub_folder))\n",
    "                \n",
    "                print_progress(i, len_sub_folder, folder, sub_folder, filename)"
   ]
  },
  {
   "cell_type": "code",
   "execution_count": 56,
   "metadata": {},
   "outputs": [],
   "source": [
    "from skimage.feature import graycomatrix, graycoprops\n",
    "\n",
    "# ----------------- calculate greycomatrix() & greycoprops() for angle 0, 45, 90, 135 ----------------------------------\n",
    "def calc_glcm_all_agls(img, label, props, dists=[5], agls=[0, np.pi/4, np.pi/2, 3*np.pi/4, np.pi], lvl=256, sym=True, norm=True):\n",
    "    \n",
    "    glcm = graycomatrix(img, \n",
    "                        distances=dists, \n",
    "                        angles=agls, \n",
    "                        levels=lvl,\n",
    "                        symmetric=sym, \n",
    "                        normed=norm)\n",
    "    feature = []\n",
    "    glcm_props = [propery for name in props for propery in graycoprops(glcm, name)[0]]\n",
    "    for item in glcm_props:\n",
    "            feature.append(item)\n",
    "    return feature"
   ]
  },
  {
   "cell_type": "code",
   "execution_count": 57,
   "metadata": {},
   "outputs": [],
   "source": [
    "# ----------------- call calc_glcm_all_agls() for all properties ----------------------------------\n",
    "properties = ['dissimilarity', 'correlation', 'homogeneity', 'contrast', 'ASM', 'energy']\n",
    "\n",
    "glcm_train_agls = []\n",
    "for img, label in zip(train_imgs, train_labels): \n",
    "    glcm_train_agls.append(\n",
    "            calc_glcm_all_agls(img, \n",
    "                                label, \n",
    "                                props=properties)\n",
    "                            )\n",
    " \n",
    "train_columns = []\n",
    "angles = ['0', '45', '90','135', '180']\n",
    "for name in properties :\n",
    "    for ang in angles:\n",
    "        train_columns.append(name + \"_\" + ang)\n",
    "        \n",
    "# columns.append(\"label\")"
   ]
  },
  {
   "cell_type": "code",
   "execution_count": 58,
   "metadata": {},
   "outputs": [],
   "source": [
    "\n",
    "properties = ['dissimilarity', 'correlation', 'homogeneity', 'contrast', 'ASM', 'energy']\n",
    "\n",
    "glcm_test_agls = []\n",
    "for img, label in zip(test_imgs, test_labels): \n",
    "    glcm_test_agls.append(\n",
    "            calc_glcm_all_agls(img, \n",
    "                                label, \n",
    "                                props=properties)\n",
    "                            )\n",
    " \n",
    "test_columns = []\n",
    "angles = ['0', '45', '90','135', '180']\n",
    "for name in properties :\n",
    "    for ang in angles:\n",
    "        test_columns.append(name + \"_\" + ang)\n",
    "    "
   ]
  },
  {
   "cell_type": "code",
   "execution_count": 59,
   "metadata": {},
   "outputs": [
    {
     "name": "stdout",
     "output_type": "stream",
     "text": [
      "(807, 30)\n",
      "(209, 30)\n"
     ]
    }
   ],
   "source": [
    "import pandas as pd \n",
    "\n",
    "# Create the pandas DataFrame for GLCM features data\n",
    "glcm_train_df = pd.DataFrame(glcm_train_agls, \n",
    "                      columns = train_columns)\n",
    "\n",
    "glcm_train_df = glcm_train_df.to_numpy()\n",
    "glcm_train_df.shape\n",
    "\n",
    "\n",
    "\n",
    "glcm_test_df = pd.DataFrame(glcm_test_agls, \n",
    "                      columns = test_columns)\n",
    "\n",
    "glcm_test_df = glcm_test_df.to_numpy()\n",
    "\n",
    "\n",
    "print(glcm_train_df.shape)\n",
    "print(glcm_test_df.shape)\n"
   ]
  },
  {
   "cell_type": "code",
   "execution_count": 60,
   "metadata": {},
   "outputs": [],
   "source": [
    "def trainModel_glcm(path, no_clusters, kernel, glcm_data):\n",
    "    images = getFiles(True, path)\n",
    "    sift = cv2.xfeatures2d.SIFT_create()\n",
    "    descriptor_list = []\n",
    "    train_labels = np.array([])\n",
    "    label_count = 7\n",
    "    image_count = len(images)\n",
    "\n",
    "    for img_path in images:\n",
    "        if(\"city\" in img_path):\n",
    "            class_index = 0\n",
    "        elif(\"face\" in img_path):\n",
    "            class_index = 1\n",
    "        elif(\"green\" in img_path):\n",
    "            class_index = 2\n",
    "        elif(\"house_building\" in img_path):\n",
    "            class_index = 3\n",
    "        elif(\"house_indoor\" in img_path):\n",
    "            class_index = 4\n",
    "        elif(\"office\" in img_path):\n",
    "          class_index = 5\n",
    "        else:\n",
    "          class_index = 6\n",
    "\n",
    "        train_labels = np.append(train_labels, class_index)\n",
    "        img = readImage(img_path)\n",
    "        des = getDescriptors(sift, img)\n",
    "        descriptor_list.append(des)\n",
    "\n",
    "    descriptors = vstackDescriptors(descriptor_list)\n",
    "\n",
    "    kmeans = clusterDescriptors(descriptors, no_clusters)\n",
    "\n",
    "    im_features = extractFeatures(kmeans, descriptor_list, image_count, no_clusters)\n",
    "\n",
    "    final_features = np.concatenate([im_features, glcm_data], axis=1)\n",
    "\n",
    "    norms = np.linalg.norm(final_features, axis=1, keepdims=True)\n",
    "    \n",
    "    norm_feat = final_features/norms\n",
    "\n",
    "    svm = findSVM(final_features, train_labels, kernel)\n",
    "\n",
    "    return kmeans, svm, norm_feat"
   ]
  },
  {
   "cell_type": "code",
   "execution_count": 61,
   "metadata": {},
   "outputs": [],
   "source": [
    "def testModel_glcm(path, kmeans, svm, im_features, no_clusters, kernel, glcm_data):\n",
    "    test_images = getFiles(False, path)\n",
    "\n",
    "    count = 0\n",
    "    true = []\n",
    "    descriptor_list = []\n",
    "\n",
    "    name_dict =\t{\n",
    "        \"0\": \"city\",\n",
    "        \"1\": \"face\",\n",
    "        \"2\": \"green\",\n",
    "        \"3\": \"house_building\",\n",
    "        \"4\": \"house_indoor\",\n",
    "        \"5\": \"office\",\n",
    "        \"6\": \"sea\"\n",
    "    }\n",
    "\n",
    "    sift = cv2.xfeatures2d.SIFT_create()\n",
    "\n",
    "    for img_path in test_images:\n",
    "        \n",
    "        img = readImage(img_path)\n",
    "        des = getDescriptors(sift, img)\n",
    "        # print(des)\n",
    "        if(des is not None):\n",
    "            count += 1\n",
    "            descriptor_list.append(des)\n",
    "\n",
    "            if(\"city\" in img_path):\n",
    "                true.append(\"city\")\n",
    "            elif(\"face\" in img_path):\n",
    "                true.append(\"face\")\n",
    "            elif(\"green\" in img_path):\n",
    "                true.append(\"green\")\n",
    "            elif(\"house_building\" in img_path):\n",
    "                true.append(\"house_building\")\n",
    "            elif(\"house_indoor\" in img_path):\n",
    "                true.append(\"house_indoor\")\n",
    "            elif(\"office\" in img_path):\n",
    "                true.append(\"office\")\n",
    "            else:\n",
    "                true.append(\"sea\")\n",
    "    \n",
    "    descriptors = vstackDescriptors(descriptor_list)\n",
    "    test_features = extractFeatures(kmeans, descriptor_list, count, no_clusters)\n",
    "    final_features = np.concatenate([test_features, glcm_data], axis=1)\n",
    "    norms = np.linalg.norm(final_features, axis=1, keepdims=True)\n",
    "    norm_feat = final_features/norms\n",
    "\n",
    "    kernel_test = final_features\n",
    "\n",
    "    if(kernel == \"precomputed\"):\n",
    "        kernel_test = np.dot(test_features, im_features.T)\n",
    "    \n",
    "    predictions = [name_dict[str(int(i))] for i in svm.predict(kernel_test)]\n",
    "    print(no_clusters)\n",
    "    findAccuracy(true, predictions)"
   ]
  },
  {
   "cell_type": "code",
   "execution_count": 62,
   "metadata": {},
   "outputs": [
    {
     "name": "stderr",
     "output_type": "stream",
     "text": [
      "100%|██████████| 807/807 [00:14<00:00, 57.58it/s]\n"
     ]
    }
   ],
   "source": [
    "for no_clusters in range(10, 100, 10):\n",
    "    kmeans, svm, im_features = trainModel_glcm('Bag-of-Visual-Words-master/dataset/train', no_clusters, 'linear', glcm_train_df)\n",
    "    testModel_glcm('Bag-of-Visual-Words-master/dataset/test', kmeans, svm, im_features, no_clusters,\"linear\", glcm_test_df )"
   ]
  },
  {
   "cell_type": "code",
   "execution_count": 70,
   "metadata": {},
   "outputs": [
    {
     "data": {
      "text/plain": [
       "Text(0, 0.5, 'Accuracy')"
      ]
     },
     "execution_count": 70,
     "metadata": {},
     "output_type": "execute_result"
    },
    {
     "data": {
      "image/png": "[encoded data removed]",
      "text/plain": [
       "<Figure size 640x480 with 1 Axes>"
      ]
     },
     "metadata": {},
     "output_type": "display_data"
    }
   ],
   "source": [
    "acc = [0.182, 0.139, 0.187, 0.100, 0.163, 0.139, 0.139, 0.139, 0.096]\n",
    "k = range(10, 100, 10)\n",
    "plt.plot(k, acc)\n",
    "plt.xlabel('num clusters')\n",
    "plt.ylabel('Accuracy')"
   ]
  },
  {
   "cell_type": "code",
   "execution_count": null,
   "metadata": {},
   "outputs": [],
   "source": []
  }
 ],
 "metadata": {
  "kernelspec": {
   "display_name": "gnr638",
   "language": "python",
   "name": "gnr638"
  },
  "language_info": {
   "codemirror_mode": {
    "name": "ipython",
    "version": 3
   },
   "file_extension": ".py",
   "mimetype": "text/x-python",
   "name": "python",
   "nbconvert_exporter": "python",
   "pygments_lexer": "ipython3",
   "version": "3.10.9"
  }
 },
 "nbformat": 4,
 "nbformat_minor": 2
}
